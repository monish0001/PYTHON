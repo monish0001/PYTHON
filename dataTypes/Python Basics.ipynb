{
 "cells": [
  {
   "cell_type": "code",
   "execution_count": 1,
   "id": "efbd54e4",
   "metadata": {},
   "outputs": [],
   "source": [
    "# Python Collections (Arrays)\n",
    "# There are four collection data types in the Python programming language:\n",
    "\n",
    "# List is a collection which is ordered and changeable. Allows duplicate members.\n",
    "# Tuple is a collection which is ordered and unchangeable. Allows duplicate members.\n",
    "# Set is a collection which is unordered, unchangeable*, and unindexed. No duplicate members.\n",
    "# Dictionary is a collection which is ordered** and changeable. No duplicate members.\n",
    "# *Set items are unchangeable, but you can remove and/or add items whenever you like.\n",
    "\n",
    "# **As of Python version 3.7, dictionaries are ordered. In Python 3.6 and earlier, dictionaries are unordered."
   ]
  },
  {
   "cell_type": "markdown",
   "id": "d4bbe457",
   "metadata": {},
   "source": [
    "## Access Tuple Items"
   ]
  },
  {
   "cell_type": "code",
   "execution_count": 2,
   "id": "c5c0d40f",
   "metadata": {},
   "outputs": [
    {
     "name": "stdout",
     "output_type": "stream",
     "text": [
      "banana\n",
      "cherry\n"
     ]
    }
   ],
   "source": [
    "thistuple = (\"apple\", \"banana\", \"cherry\")\n",
    "print(thistuple[1])\n",
    "print(thistuple[-1])"
   ]
  },
  {
   "cell_type": "markdown",
   "id": "94b25eb8",
   "metadata": {},
   "source": [
    "## Check if Item Exists"
   ]
  },
  {
   "cell_type": "code",
   "execution_count": 3,
   "id": "8ee037fe",
   "metadata": {
    "scrolled": true
   },
   "outputs": [
    {
     "name": "stdout",
     "output_type": "stream",
     "text": [
      "Yes, 'apple' is in the fruits tuple\n"
     ]
    }
   ],
   "source": [
    "thistuple = (\"apple\", \"banana\", \"cherry\")\n",
    "if \"apple\" in thistuple:\n",
    "  print(\"Yes, 'apple' is in the fruits tuple\")"
   ]
  },
  {
   "cell_type": "markdown",
   "id": "c4c8d300",
   "metadata": {},
   "source": [
    "## Update Tuples\n",
    "Since tuples are immutable, they do not have a built-in append() method, but there are other ways to add items to a tuple.\n",
    "\n",
    "Convert into a list: Just like the workaround for changing a tuple, you can convert it into a list, add your item(s), and convert it back into a tuple."
   ]
  },
  {
   "cell_type": "code",
   "execution_count": 5,
   "id": "d0ac7380",
   "metadata": {},
   "outputs": [
    {
     "name": "stdout",
     "output_type": "stream",
     "text": [
      "('apple', 'banana', 'cherry', 'orange')\n"
     ]
    }
   ],
   "source": [
    "thistuple = (\"apple\", \"banana\", \"cherry\")\n",
    "y = list(thistuple)\n",
    "y.append(\"orange\")\n",
    "thistuple = tuple(y)\n",
    "print(thistuple)"
   ]
  },
  {
   "cell_type": "code",
   "execution_count": 7,
   "id": "2b511ed9",
   "metadata": {},
   "outputs": [
    {
     "name": "stdout",
     "output_type": "stream",
     "text": [
      "('apple', 'banana', 'cherry', 'orange', 'KELA')\n"
     ]
    }
   ],
   "source": [
    "thistuple = (\"apple\", \"banana\", \"cherry\")\n",
    "y = (\"orange\",\"KELA\")\n",
    "thistuple += y\n",
    "\n",
    "print(thistuple)"
   ]
  },
  {
   "cell_type": "markdown",
   "id": "979a6c3b",
   "metadata": {},
   "source": [
    "## Unpack Tuples"
   ]
  },
  {
   "cell_type": "code",
   "execution_count": 8,
   "id": "dba6f276",
   "metadata": {},
   "outputs": [
    {
     "name": "stdout",
     "output_type": "stream",
     "text": [
      "apple\n",
      "banana\n",
      "cherry\n"
     ]
    }
   ],
   "source": [
    "# When we create a tuple, we normally assign values to it. This is called \"packing\" a tuple.\n",
    "# But, in Python, we are also allowed to extract the values back into variables. This is called \"unpacking\".\n",
    "\n",
    "fruits = (\"apple\", \"banana\", \"cherry\") #packing\n",
    "\n",
    "(green, yellow, red) = fruits #unpacking\n",
    "\n",
    "print(green)\n",
    "print(yellow)\n",
    "print(red)"
   ]
  },
  {
   "cell_type": "markdown",
   "id": "a369f6d5",
   "metadata": {},
   "source": [
    "## Using Asterisk*"
   ]
  },
  {
   "cell_type": "code",
   "execution_count": null,
   "id": "79835d88",
   "metadata": {},
   "outputs": [],
   "source": []
  }
 ],
 "metadata": {
  "kernelspec": {
   "display_name": "Python 3 (ipykernel)",
   "language": "python",
   "name": "python3"
  },
  "language_info": {
   "codemirror_mode": {
    "name": "ipython",
    "version": 3
   },
   "file_extension": ".py",
   "mimetype": "text/x-python",
   "name": "python",
   "nbconvert_exporter": "python",
   "pygments_lexer": "ipython3",
   "version": "3.11.5"
  }
 },
 "nbformat": 4,
 "nbformat_minor": 5
}
