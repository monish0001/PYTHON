{
 "cells": [
  {
   "cell_type": "markdown",
   "id": "18c00ce7",
   "metadata": {},
   "source": [
    "# LIST"
   ]
  },
  {
   "cell_type": "markdown",
   "id": "77e851fe",
   "metadata": {},
   "source": [
    "**********************************************************"
   ]
  },
  {
   "cell_type": "markdown",
   "id": "8c5fca91",
   "metadata": {},
   "source": [
    "#### Table of Content\n",
    "\n",
    "Creating a List\n",
    "\n",
    "Accessing List Items\n",
    "\n",
    "Adding Items into List\n",
    "\n",
    "Updating Items into List\n",
    "\n",
    "Removing Items from List\n",
    "\n",
    "Iterating Over Lists\n",
    "\n",
    "Nested Lists\n",
    "\n",
    "List Slicing"
   ]
  },
  {
   "cell_type": "markdown",
   "id": "ce1662ff",
   "metadata": {},
   "source": [
    "************************************************************************************************"
   ]
  },
  {
   "cell_type": "markdown",
   "id": "bcf5fb66",
   "metadata": {},
   "source": [
    "Dynamic Size: List automatically grows and shrinks.\n",
    "\n",
    "Mixed Types: Can store different types, including other lists.\n",
    "\n",
    "Duplicates Allowed: Lists can contain duplicate items.\n",
    "\n",
    "Mutable: Items can be modified, replaced, or deleted.\n",
    "\n",
    "Ordered: Maintains the order of elements.\n",
    "\n",
    "Indexing: Access items by their index (starting from 0)."
   ]
  },
  {
   "cell_type": "markdown",
   "id": "217fcd07",
   "metadata": {},
   "source": [
    "****************************************************************************************************************"
   ]
  },
  {
   "cell_type": "markdown",
   "id": "91c7accd",
   "metadata": {},
   "source": [
    "#### Creating a List"
   ]
  },
  {
   "cell_type": "code",
   "execution_count": 9,
   "id": "197ffb65",
   "metadata": {},
   "outputs": [
    {
     "name": "stdout",
     "output_type": "stream",
     "text": [
      "[1, 'ABC', 3.14, True] [1, 2, 3, 'KSG', 9, 8] [5, 5, 5, 5, 5, 5, 5]\n"
     ]
    }
   ],
   "source": [
    "l1 = [1, 'ABC', 3.14, True]\n",
    "l2 = list((1, 2, 3, 'KSG', 9,8))\n",
    "l3= [5] * 7\n",
    "\n",
    "print(l1,l2,l3)\n"
   ]
  },
  {
   "cell_type": "markdown",
   "id": "412fb107",
   "metadata": {},
   "source": [
    "*****************************************************************"
   ]
  },
  {
   "cell_type": "markdown",
   "id": "3cf6d579",
   "metadata": {},
   "source": [
    "#### Accessing List Items"
   ]
  },
  {
   "cell_type": "code",
   "execution_count": 11,
   "id": "ffb862a7",
   "metadata": {
    "scrolled": true
   },
   "outputs": [
    {
     "name": "stdout",
     "output_type": "stream",
     "text": [
      "ABC\n"
     ]
    }
   ],
   "source": [
    "print(l1[1])"
   ]
  },
  {
   "cell_type": "code",
   "execution_count": 12,
   "id": "a8fd4355",
   "metadata": {},
   "outputs": [
    {
     "name": "stdout",
     "output_type": "stream",
     "text": [
      "1\n",
      "ABC\n",
      "3.14\n",
      "True\n"
     ]
    }
   ],
   "source": [
    "for item in l1:\n",
    "    print(item)"
   ]
  },
  {
   "cell_type": "markdown",
   "id": "5a17563c",
   "metadata": {},
   "source": [
    "***************************************************************************"
   ]
  },
  {
   "cell_type": "markdown",
   "id": "7e5db227",
   "metadata": {},
   "source": [
    "#### Adding Items into List"
   ]
  },
  {
   "cell_type": "code",
   "execution_count": 13,
   "id": "1c0aa47f",
   "metadata": {},
   "outputs": [
    {
     "name": "stdout",
     "output_type": "stream",
     "text": [
      "After append(10): [10]\n",
      "After insert(0, 5): [5, 10]\n",
      "After extend([15, 20, 25]): [5, 10, 15, 20, 25]\n"
     ]
    }
   ],
   "source": [
    "\n",
    "a = []\n",
    "\n",
    "a.append(10)  \n",
    "print(\"After append(10):\", a)  \n",
    "\n",
    "\n",
    "a.insert(0, 5) #insert(index,element)\n",
    "print(\"After insert(0, 5):\", a) \n",
    "\n",
    "\n",
    "a.extend([15, 20, 25])  \n",
    "print(\"After extend([15, 20, 25]):\", a)"
   ]
  },
  {
   "cell_type": "markdown",
   "id": "14b877bf",
   "metadata": {},
   "source": [
    "************************"
   ]
  },
  {
   "cell_type": "markdown",
   "id": "32be8d6c",
   "metadata": {},
   "source": [
    "#### Updating Items into List"
   ]
  },
  {
   "cell_type": "code",
   "execution_count": 15,
   "id": "374958fd",
   "metadata": {},
   "outputs": [
    {
     "name": "stdout",
     "output_type": "stream",
     "text": [
      "[10, 10000, 30, 40, 50]\n"
     ]
    }
   ],
   "source": [
    "l = [10, 20, 30, 40, 50]\n",
    "\n",
    "l[1] = 10000\n",
    "\n",
    "print(l)"
   ]
  },
  {
   "cell_type": "markdown",
   "id": "0e9ec13a",
   "metadata": {},
   "source": [
    "*********************************"
   ]
  },
  {
   "cell_type": "markdown",
   "id": "5d5e7bc5",
   "metadata": {},
   "source": [
    "#### Removing Elements from List"
   ]
  },
  {
   "cell_type": "markdown",
   "id": "01b6cfe4",
   "metadata": {},
   "source": [
    "remove(): Removes the first occurrence of an element.\n",
    "    \n",
    "pop(): Removes the element at a specific index or the last element if no index is specified.\n",
    "    \n",
    "del statement: Deletes an element at a specified index."
   ]
  },
  {
   "cell_type": "code",
   "execution_count": 17,
   "id": "a4ace106",
   "metadata": {},
   "outputs": [
    {
     "name": "stdout",
     "output_type": "stream",
     "text": [
      "After remove(30): [10, 20, 40, 50]\n",
      "Popped element: 20\n",
      "After pop(1): [10, 40, 50]\n",
      "After del a[0]: [40, 50]\n"
     ]
    }
   ],
   "source": [
    "a = [10, 20, 30, 40, 50]\n",
    "\n",
    "\n",
    "a.remove(30)  \n",
    "print(\"After remove(30):\", a)\n",
    "\n",
    "\n",
    "popped_val = a.pop(1)  \n",
    "print(\"Popped element:\", popped_val)\n",
    "print(\"After pop(1):\", a) \n",
    "\n",
    "\n",
    "del a[0]  \n",
    "print(\"After del a[0]:\", a)"
   ]
  },
  {
   "cell_type": "markdown",
   "id": "e231f35b",
   "metadata": {},
   "source": [
    "****************************"
   ]
  },
  {
   "cell_type": "markdown",
   "id": "5dae99af",
   "metadata": {},
   "source": [
    "#### Nested Lists in Python"
   ]
  },
  {
   "cell_type": "code",
   "execution_count": 18,
   "id": "a6bdaab6",
   "metadata": {},
   "outputs": [
    {
     "name": "stdout",
     "output_type": "stream",
     "text": [
      "6\n"
     ]
    }
   ],
   "source": [
    "matrix = [\n",
    "    [1, 2, 3],\n",
    "    [4, 5, 6],\n",
    "    [7, 8, 9]\n",
    "]\n",
    "\n",
    "# Access element at row 2, column 3\n",
    "print(matrix[1][2])"
   ]
  },
  {
   "cell_type": "markdown",
   "id": "4c4ff986",
   "metadata": {},
   "source": [
    "**************************************"
   ]
  },
  {
   "cell_type": "markdown",
   "id": "8e4fde56",
   "metadata": {},
   "source": [
    "#### List Slicing [ , )"
   ]
  },
  {
   "cell_type": "code",
   "execution_count": 23,
   "id": "038cae42",
   "metadata": {},
   "outputs": [
    {
     "name": "stdout",
     "output_type": "stream",
     "text": [
      "[1, 2, 3, 4, 5, 6, 7, 8, 9]\n",
      "[1, 2, 3, 4, 5, 6, 7, 8, 9]\n",
      "[2, 5, 8]\n"
     ]
    }
   ],
   "source": [
    "a = [1, 2, 3, 4, 5, 6, 7, 8, 9]\n",
    "\n",
    "\n",
    "print(a[::])\n",
    "print(a[:])\n",
    "\n",
    "c = a[1:8:3]\n",
    "print(c)"
   ]
  },
  {
   "cell_type": "markdown",
   "id": "bfb727d8",
   "metadata": {},
   "source": [
    "#### NOTE"
   ]
  },
  {
   "cell_type": "markdown",
   "id": "ac4eab17",
   "metadata": {},
   "source": [
    "Out-of-bound slicing\n",
    "In Python, list slicing allows out-of-bound indexing without raising errors. If we specify indices beyond the list length then it will simply return the available items.\n",
    "\n",
    "Example: The slice a[7:15] starts at index 7 and attempts to reach index 15, but since the list ends at index 8, so it will return only the available elements (i.e. [8,9])."
   ]
  },
  {
   "cell_type": "markdown",
   "id": "d621b82c",
   "metadata": {},
   "source": [
    "*****************************************************"
   ]
  },
  {
   "cell_type": "markdown",
   "id": "f814d5d4",
   "metadata": {},
   "source": [
    "# **END**"
   ]
  },
  {
   "cell_type": "code",
   "execution_count": null,
   "id": "c7da3055",
   "metadata": {},
   "outputs": [],
   "source": []
  }
 ],
 "metadata": {
  "kernelspec": {
   "display_name": "Python 3 (ipykernel)",
   "language": "python",
   "name": "python3"
  },
  "language_info": {
   "codemirror_mode": {
    "name": "ipython",
    "version": 3
   },
   "file_extension": ".py",
   "mimetype": "text/x-python",
   "name": "python",
   "nbconvert_exporter": "python",
   "pygments_lexer": "ipython3",
   "version": "3.11.5"
  }
 },
 "nbformat": 4,
 "nbformat_minor": 5
}
