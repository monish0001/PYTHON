{
 "cells": [
  {
   "cell_type": "markdown",
   "id": "6701d682",
   "metadata": {},
   "source": [
    "A string is a sequence of characters. Python treats anything inside quotes as a string. This includes letters, numbers, and symbols. Python has no character data type so single character is a string of length 1."
   ]
  },
  {
   "cell_type": "markdown",
   "id": "db161a7f",
   "metadata": {},
   "source": [
    "### Table of Content\n",
    "\n",
    "Creating a String\n",
    "\n",
    "Accessing characters in Python String\n",
    "\n",
    "String Immutability\n",
    "\n",
    "Deleting a String\n",
    "\n",
    "Updating a String\n",
    "\n",
    "Common String Methods\n",
    "\n",
    "Concatenating and Repeating Strings\n",
    "\n",
    "Formatting Strings"
   ]
  },
  {
   "cell_type": "markdown",
   "id": "527814d7",
   "metadata": {},
   "source": [
    "**************************************************************"
   ]
  },
  {
   "cell_type": "markdown",
   "id": "fab30165",
   "metadata": {},
   "source": [
    "#### Creating a String"
   ]
  },
  {
   "cell_type": "code",
   "execution_count": 3,
   "id": "6151e0e5",
   "metadata": {},
   "outputs": [
    {
     "name": "stdout",
     "output_type": "stream",
     "text": [
      "I am Learning\n",
      ".py\n",
      "I'm a \n",
      "boat\n"
     ]
    }
   ],
   "source": [
    "s = \"\"\"I am Learning\n",
    ".py\"\"\"\n",
    "print(s)\n",
    "\n",
    "s = '''I'm a \n",
    "boat'''\n",
    "print(s)"
   ]
  },
  {
   "cell_type": "markdown",
   "id": "fc39f3c5",
   "metadata": {},
   "source": [
    "***************************************************************"
   ]
  },
  {
   "cell_type": "markdown",
   "id": "439b9992",
   "metadata": {},
   "source": [
    "#### Accessing characters in Python String and Slicing"
   ]
  },
  {
   "cell_type": "raw",
   "id": "0376d6f9",
   "metadata": {},
   "source": [
    "| Character         | M   | O   | H   | D   | M   | O   | N   | I   | S   | H   | A   | B   | C   |\n",
    "|-------------------|-----|-----|-----|-----|-----|-----|-----|-----|-----|-----|-----|-----|-----|\n",
    "| Positive Index    |  0  |  1  |  2  |  3  |  4  |  5  |  6  |  7  |  8  |  9  | 10  | 11  | 12  |\n",
    "| Negative Index    | -13 | -12 | -11 | -10 | -9  | -8  | -7  | -6  | -5  | -4  | -3  | -2  | -1  |\n"
   ]
  },
  {
   "cell_type": "markdown",
   "id": "f91facfd",
   "metadata": {},
   "source": [
    "#### Slicing Syntax Overview\n",
    "\n",
    "The slicing syntax in Python is:\n",
    "\n",
    "\n",
    "s[start:stop:step]\n",
    "\n",
    "start: The index to start the slicing (inclusive). Default is 0 if not provided.\n",
    "\n",
    "stop: The index to stop the slicing (exclusive). Default is the end of the string if not provided.\n",
    "\n",
    "step: The interval between each character taken. Default is 1."
   ]
  },
  {
   "cell_type": "markdown",
   "id": "2038de87",
   "metadata": {},
   "source": [
    "Reversing with [::-1]\n",
    "\n",
    "The specific slice [::-1] works as follows:\n",
    "\n",
    "start: Not provided, so it defaults to the start of the string.\n",
    "\n",
    "stop: Not provided, so it defaults to the end of the string.\n",
    "\n",
    "step: -1, which means to move backward through the string, effectively reversing it."
   ]
  },
  {
   "cell_type": "markdown",
   "id": "9e54b78c",
   "metadata": {},
   "source": [
    "| Syntax               | Description                                          | Example Output for \"MOHDMONISHABC\" |\n",
    "|-----------------------|------------------------------------------------------|-------------------------------------|\n",
    "| `s[:]`               | Entire string                                        | `\"MOHDMONISHABC\"`                   |\n",
    "| `s[start:stop]`      | Substring from `start` to `stop-1`                   | `\"MOHD\"` for `s[0:4]`               |\n",
    "| `s[:stop]`           | Substring from start to `stop-1`                     | `\"MOHD\"` for `s[:4]`                |\n",
    "| `s[start:]`          | Substring from `start` to end                        | `\"MONISHABC\"` for `s[4:]`           |\n",
    "| `s[start:stop:step]` | Substring from `start` to `stop-1`, skipping by `step`| `\"MHNI\"` for `s[0:8:2]`             |\n",
    "| `s[::-1]`            | Entire string reversed                               | `\"CBAHSINOMDHOM\"`                   |\n"
   ]
  },
  {
   "cell_type": "markdown",
   "id": "79ee7248",
   "metadata": {},
   "source": [
    "********************************************************************************************"
   ]
  },
  {
   "cell_type": "markdown",
   "id": "1dcd40d1",
   "metadata": {},
   "source": [
    "#### String Immutability"
   ]
  },
  {
   "cell_type": "markdown",
   "id": "dad98e96",
   "metadata": {},
   "source": [
    "Strings in Python are immutable"
   ]
  },
  {
   "cell_type": "markdown",
   "id": "52afea27",
   "metadata": {},
   "source": [
    "************************************************************************************************************************"
   ]
  },
  {
   "cell_type": "markdown",
   "id": "29d8b64d",
   "metadata": {},
   "source": [
    "#### Deleting a String"
   ]
  },
  {
   "cell_type": "markdown",
   "id": "62b8bf33",
   "metadata": {},
   "source": [
    "In Python, it is not possible to delete individual characters from a string since strings are immutable. However, we can delete an entire string variable using the del keyword."
   ]
  },
  {
   "cell_type": "code",
   "execution_count": 7,
   "id": "60928f02",
   "metadata": {},
   "outputs": [],
   "source": [
    "s = \"ABC\"\n",
    "\n",
    "\n",
    "del s "
   ]
  },
  {
   "cell_type": "markdown",
   "id": "9e60e094",
   "metadata": {},
   "source": [
    "********************************************************************************************************"
   ]
  },
  {
   "cell_type": "markdown",
   "id": "d2eca71e",
   "metadata": {},
   "source": [
    "#### Updating a String"
   ]
  },
  {
   "cell_type": "markdown",
   "id": "9169ebd2",
   "metadata": {},
   "source": [
    "To update a part of a string we need to create a new string since strings are immutable."
   ]
  },
  {
   "cell_type": "code",
   "execution_count": 9,
   "id": "3f8c7aef",
   "metadata": {},
   "outputs": [
    {
     "name": "stdout",
     "output_type": "stream",
     "text": [
      "mONISH\n"
     ]
    }
   ],
   "source": [
    "s=\"MONISH\"\n",
    "s1=\"m\"+s[1:]\n",
    "print(s1)"
   ]
  },
  {
   "cell_type": "markdown",
   "id": "ad976f49",
   "metadata": {},
   "source": [
    "*******************************************************************************************************************************"
   ]
  },
  {
   "cell_type": "markdown",
   "id": "e68358bd",
   "metadata": {},
   "source": [
    "#### Common String Methods"
   ]
  },
  {
   "cell_type": "raw",
   "id": "ff95ac61",
   "metadata": {},
   "source": [
    "len()\n",
    "upper()\n",
    "lower()\n",
    "strip() -removes leading and trailing whitespace from the string.\n",
    "replace(old, new) - replaces all occurrences of a specified substring with another.\n",
    "Concatenating+\n",
    "Repeating*\n",
    "format()\n",
    "Using in for String Membership Testing"
   ]
  },
  {
   "cell_type": "code",
   "execution_count": 23,
   "id": "cdc1cc58",
   "metadata": {},
   "outputs": [],
   "source": [
    "s = \"Mohd Monish \""
   ]
  },
  {
   "cell_type": "code",
   "execution_count": 18,
   "id": "e91c06a1",
   "metadata": {
    "scrolled": true
   },
   "outputs": [
    {
     "name": "stdout",
     "output_type": "stream",
     "text": [
      "12\n"
     ]
    }
   ],
   "source": [
    "print(len(s))"
   ]
  },
  {
   "cell_type": "code",
   "execution_count": 19,
   "id": "2c4041aa",
   "metadata": {},
   "outputs": [
    {
     "name": "stdout",
     "output_type": "stream",
     "text": [
      "MOHD MONISH \n"
     ]
    }
   ],
   "source": [
    "print(s.upper())"
   ]
  },
  {
   "cell_type": "code",
   "execution_count": 20,
   "id": "8ac908bb",
   "metadata": {},
   "outputs": [
    {
     "name": "stdout",
     "output_type": "stream",
     "text": [
      "mohd monish \n"
     ]
    }
   ],
   "source": [
    "print(s.lower())"
   ]
  },
  {
   "cell_type": "code",
   "execution_count": 21,
   "id": "611d03a6",
   "metadata": {},
   "outputs": [
    {
     "name": "stdout",
     "output_type": "stream",
     "text": [
      "Mohd Monish\n"
     ]
    }
   ],
   "source": [
    "print(s.strip()) "
   ]
  },
  {
   "cell_type": "code",
   "execution_count": 24,
   "id": "cd996fae",
   "metadata": {},
   "outputs": [
    {
     "name": "stdout",
     "output_type": "stream",
     "text": [
      "firstName Monish \n"
     ]
    }
   ],
   "source": [
    "print(s.replace(\"Mohd\", \"firstName\"))"
   ]
  },
  {
   "cell_type": "code",
   "execution_count": 25,
   "id": "ad3bb61b",
   "metadata": {},
   "outputs": [],
   "source": [
    "t=\"Karan\""
   ]
  },
  {
   "cell_type": "code",
   "execution_count": 26,
   "id": "ad9f552a",
   "metadata": {},
   "outputs": [
    {
     "name": "stdout",
     "output_type": "stream",
     "text": [
      "Mohd Monish  Karan\n"
     ]
    }
   ],
   "source": [
    "str = s + \" \" + t\n",
    "print(str)"
   ]
  },
  {
   "cell_type": "code",
   "execution_count": 27,
   "id": "3e494068",
   "metadata": {},
   "outputs": [
    {
     "name": "stdout",
     "output_type": "stream",
     "text": [
      "KaranKaranKaran\n"
     ]
    }
   ],
   "source": [
    "print(t * 3)"
   ]
  },
  {
   "cell_type": "code",
   "execution_count": 28,
   "id": "83d2d3af",
   "metadata": {},
   "outputs": [
    {
     "name": "stdout",
     "output_type": "stream",
     "text": [
      "Name: Monish, Age: 24\n"
     ]
    }
   ],
   "source": [
    "name = \"Monish\"\n",
    "age = 24\n",
    "print(f\"Name: {name}, Age: {age}\")"
   ]
  },
  {
   "cell_type": "code",
   "execution_count": 30,
   "id": "4174524c",
   "metadata": {},
   "outputs": [
    {
     "name": "stdout",
     "output_type": "stream",
     "text": [
      "My name is Monish and I am 24 years old.\n"
     ]
    }
   ],
   "source": [
    "s = \"My name is {} and I am {} years old.\".format(name, age)\n",
    "print(s)"
   ]
  },
  {
   "cell_type": "code",
   "execution_count": 32,
   "id": "5f1edd31",
   "metadata": {},
   "outputs": [
    {
     "name": "stdout",
     "output_type": "stream",
     "text": [
      "False\n"
     ]
    }
   ],
   "source": [
    "print(\"SH\" in name)"
   ]
  },
  {
   "cell_type": "code",
   "execution_count": 33,
   "id": "d327aafc",
   "metadata": {},
   "outputs": [
    {
     "name": "stdout",
     "output_type": "stream",
     "text": [
      "True\n"
     ]
    }
   ],
   "source": [
    "print(\"sh\" in name)"
   ]
  },
  {
   "cell_type": "markdown",
   "id": "263f44a4",
   "metadata": {},
   "source": [
    "*********************************************************"
   ]
  },
  {
   "cell_type": "markdown",
   "id": "08686905",
   "metadata": {},
   "source": [
    "**END**"
   ]
  },
  {
   "cell_type": "code",
   "execution_count": null,
   "id": "2bdbaed6",
   "metadata": {},
   "outputs": [],
   "source": []
  }
 ],
 "metadata": {
  "kernelspec": {
   "display_name": "Python 3 (ipykernel)",
   "language": "python",
   "name": "python3"
  },
  "language_info": {
   "codemirror_mode": {
    "name": "ipython",
    "version": 3
   },
   "file_extension": ".py",
   "mimetype": "text/x-python",
   "name": "python",
   "nbconvert_exporter": "python",
   "pygments_lexer": "ipython3",
   "version": "3.11.5"
  }
 },
 "nbformat": 4,
 "nbformat_minor": 5
}
